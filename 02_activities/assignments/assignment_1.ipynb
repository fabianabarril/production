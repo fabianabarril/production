{
 "cells": [
  {
   "cell_type": "markdown",
   "metadata": {},
   "source": [
    "# Working with parquet files\n",
    "\n",
    "## Objective\n",
    "\n",
    "+ In this assignment, we will use the data downloaded with the module `data_manager` to create features.\n",
    "\n",
    "(11 pts total)\n",
    "\n",
    "## Prerequisites\n",
    "\n",
    "+ This notebook assumes that price data is available to you in the environment variable `PRICE_DATA`. If you have not done so, then execute the notebook `01_materials/labs/2_data_engineering.ipynb` to create this data set.\n"
   ]
  },
  {
   "cell_type": "markdown",
   "metadata": {},
   "source": [
    "+ Load the environment variables using dotenv. (1 pt)"
   ]
  },
  {
   "cell_type": "code",
   "execution_count": 40,
   "metadata": {},
   "outputs": [],
   "source": [
    "%reload_ext dotenv\n",
    "%dotenv"
   ]
  },
  {
   "cell_type": "code",
   "execution_count": 41,
   "metadata": {},
   "outputs": [],
   "source": [
    "import dask.dataframe as dd"
   ]
  },
  {
   "cell_type": "markdown",
   "metadata": {},
   "source": [
    "+ Load the environment variable `PRICE_DATA`.\n",
    "+ Use [glob](https://docs.python.org/3/library/glob.html) to find the path of all parquet files in the directory `PRICE_DATA`.\n",
    "\n",
    "(1pt)"
   ]
  },
  {
   "cell_type": "code",
   "execution_count": 45,
   "metadata": {},
   "outputs": [],
   "source": [
    "import os\n",
    "from glob import glob\n",
    "\n",
    "price_data_dir = os.getenv(\"PRICE_DATA\")\n",
    "\n",
    "parquet_files = glob(os.path.join(price_data_dir, \"**/*.parquet\"), recursive=True)"
   ]
  },
  {
   "cell_type": "code",
   "execution_count": 46,
   "metadata": {},
   "outputs": [
    {
     "name": "stdout",
     "output_type": "stream",
     "text": [
      "PRICE_DATA directory: ../../05_src/data/prices/\n",
      "Found 60 parquet files.\n"
     ]
    }
   ],
   "source": [
    "print(f\"PRICE_DATA directory: {price_data_dir}\")\n",
    "print(f\"Found {len(parquet_files)} parquet files.\")"
   ]
  },
  {
   "cell_type": "markdown",
   "metadata": {},
   "source": [
    "For each ticker and using Dask, do the following:\n",
    "\n",
    "+ Add lags for variables Close and Adj_Close.\n",
    "+ Add returns based on Close:\n",
    "    \n",
    "    - `returns`: (Close / Close_lag_1) - 1\n",
    "\n",
    "+ Add the following range: \n",
    "\n",
    "    - `hi_lo_range`: this is the day's High minus Low.\n",
    "\n",
    "+ Assign the result to `dd_feat`.\n",
    "\n",
    "(4 pt)"
   ]
  },
  {
   "cell_type": "code",
   "execution_count": null,
   "metadata": {},
   "outputs": [],
   "source": [
    "# load all parquet files into a single Dask DataFrame\n",
    "dd_px = dd.read_parquet(parquet_files).set_index(\"ticker\")\n",
    "\n",
    "def create_features(df):\n",
    "\n",
    "    df = df.sort_values(by='Date')\n",
    "\n",
    "    # add lags for Close and Adj Close\n",
    "    df = df.assign(\n",
    "        Close_lag_1 = df['Close'].shift(1),\n",
    "        Adj_Close_lag_1 = df['Adj Close'].shift(1)\n",
    "    )\n",
    "\n",
    "    # add returns: (Close / Close_lag_1) - 1\n",
    "    df['returns'] = (df['Close'] / df['Close_lag_1']) - 1\n",
    "\n",
    "    # add hi_lo_range: High minus Low\n",
    "    df['hi_lo_range'] = df['High'] - df['Low']\n",
    "\n",
    "    return df\n",
    "\n",
    "meta_df = dd_px._meta.copy()\n",
    "meta_df['Close_lag_1'] = float\n",
    "meta_df['Adj_Close_lag_1'] = float\n",
    "meta_df['returns'] = float\n",
    "meta_df['hi_lo_range'] = float\n",
    "\n",
    "\n",
    "# apply the feature creation function to each ticker group\n",
    "dd_feat = dd_px.groupby('ticker', group_keys=False).apply(\n",
    "    create_features,\n",
    "    meta=meta_df\n",
    ")"
   ]
  },
  {
   "cell_type": "code",
   "execution_count": 55,
   "metadata": {},
   "outputs": [
    {
     "name": "stdout",
     "output_type": "stream",
     "text": [
      "             Date   Open   High    Low  Close  Adj Close      Volume   source  \\\n",
      "ticker                                                                          \n",
      "ACN    2001-07-19  15.10  15.29  15.00  15.17  11.404394  34994300.0  ACN.csv   \n",
      "ACN    2001-07-20  15.05  15.05  14.80  15.01  11.284108   9238500.0  ACN.csv   \n",
      "ACN    2001-07-23  15.00  15.01  14.55  15.00  11.276587   7501000.0  ACN.csv   \n",
      "ACN    2001-07-24  14.95  14.97  14.70  14.86  11.171341   3537300.0  ACN.csv   \n",
      "ACN    2001-07-25  14.70  14.95  14.65  14.95  11.238999   4208100.0  ACN.csv   \n",
      "\n",
      "        Close_lag_1  Adj_Close_lag_1   returns  hi_lo_range  \n",
      "ticker                                                       \n",
      "ACN             NaN              NaN       NaN         0.29  \n",
      "ACN           15.17        11.404394 -0.010547         0.25  \n",
      "ACN           15.01        11.284108 -0.000666         0.46  \n",
      "ACN           15.00        11.276587 -0.009333         0.27  \n",
      "ACN           14.86        11.171341  0.006057         0.30  \n"
     ]
    }
   ],
   "source": [
    "print(dd_feat.head())"
   ]
  },
  {
   "cell_type": "markdown",
   "metadata": {},
   "source": [
    "+ Convert the Dask data frame to a pandas data frame. \n",
    "+ Add a new feature containing the moving average of `returns` using a window of 10 days. There are several ways to solve this task, a simple one uses `.rolling(10).mean()`.\n",
    "\n",
    "(3 pt)"
   ]
  },
  {
   "cell_type": "code",
   "execution_count": 58,
   "metadata": {},
   "outputs": [],
   "source": [
    "import pandas as pd\n",
    "\n",
    "df_feat = dd_feat.compute()\n",
    "\n",
    "df_feat = df_feat.reset_index()\n",
    "\n",
    "df_feat['ma_returns_10d'] = (\n",
    "    df_feat\n",
    "    .groupby('ticker', observed=True)['returns']\n",
    "    .rolling(10, min_periods=1)\n",
    "    .mean()\n",
    "    .reset_index(level=0, drop=True)\n",
    ")"
   ]
  },
  {
   "cell_type": "code",
   "execution_count": 59,
   "metadata": {},
   "outputs": [
    {
     "name": "stdout",
     "output_type": "stream",
     "text": [
      "       ticker       Date   returns  ma_returns_10d\n",
      "239639   ZIXI 2020-03-05 -0.029021        0.001838\n",
      "239640   ZIXI 2020-03-06 -0.067248       -0.016526\n",
      "239641   ZIXI 2020-03-09 -0.101469       -0.028130\n",
      "239642   ZIXI 2020-03-10  0.026746       -0.022251\n",
      "239643   ZIXI 2020-03-11 -0.133140       -0.035223\n",
      "239644   ZIXI 2020-03-12 -0.185309       -0.045392\n",
      "239645   ZIXI 2020-03-13 -0.030738       -0.046965\n",
      "239646   ZIXI 2020-03-16 -0.103594       -0.060751\n",
      "239647   ZIXI 2020-03-17 -0.075472       -0.065108\n",
      "239648   ZIXI 2020-03-18 -0.227041       -0.092628\n",
      "239649   ZIXI 2020-03-19  0.095710       -0.080155\n",
      "239650   ZIXI 2020-03-20  0.069277       -0.066503\n",
      "239651   ZIXI 2020-03-23 -0.090141       -0.065370\n",
      "239652   ZIXI 2020-03-24  0.142415       -0.053803\n",
      "239653   ZIXI 2020-03-25  0.084011       -0.032088\n",
      "239654   ZIXI 2020-03-26  0.127500       -0.000807\n",
      "239655   ZIXI 2020-03-27  0.019956        0.004262\n",
      "239656   ZIXI 2020-03-30  0.008696        0.015491\n",
      "239657   ZIXI 2020-03-31 -0.071121        0.015926\n",
      "239658   ZIXI 2020-04-01 -0.113689        0.027261\n"
     ]
    }
   ],
   "source": [
    "# Optional: Display the end of the DataFrame to verify the new feature\n",
    "print(df_feat[['ticker', 'Date', 'returns', 'ma_returns_10d']].tail(20))"
   ]
  },
  {
   "cell_type": "markdown",
   "metadata": {},
   "source": [
    "Please comment:\n",
    "\n",
    "+ Was it necessary to convert to pandas to calculate the moving average return?\n",
    "+ Would it have been better to do it in Dask? Why?\n",
    "\n",
    "(1 pt)"
   ]
  },
  {
   "cell_type": "markdown",
   "metadata": {},
   "source": [
    "No, as Dask DataFrames support the groupby().rolling().mean() operation, making the calculation technically possible within Dask. It would be better running it in Dask if the data set is too large to fir into the memory of a single machine."
   ]
  },
  {
   "cell_type": "markdown",
   "metadata": {},
   "source": [
    "## Criteria\n",
    "\n",
    "The [rubric](./assignment_1_rubric_clean.xlsx) contains the criteria for grading."
   ]
  },
  {
   "cell_type": "markdown",
   "metadata": {},
   "source": [
    "## Submission Information\n",
    "\n",
    "🚨 **Please review our [Assignment Submission Guide](https://github.com/UofT-DSI/onboarding/blob/main/onboarding_documents/submissions.md)** 🚨 for detailed instructions on how to format, branch, and submit your work. Following these guidelines is crucial for your submissions to be evaluated correctly.\n",
    "\n",
    "### Submission Parameters:\n",
    "* Submission Due Date: `HH:MM AM/PM - DD/MM/YYYY`\n",
    "* The branch name for your repo should be: `assignment-1`\n",
    "* What to submit for this assignment:\n",
    "    * This Jupyter Notebook (assignment_1.ipynb) should be populated and should be the only change in your pull request.\n",
    "* What the pull request link should look like for this assignment: `https://github.com/<your_github_username>/production/pull/<pr_id>`\n",
    "    * Open a private window in your browser. Copy and paste the link to your pull request into the address bar. Make sure you can see your pull request properly. This helps the technical facilitator and learning support staff review your submission easily.\n",
    "\n",
    "Checklist:\n",
    "- [ ] Created a branch with the correct naming convention.\n",
    "- [ ] Ensured that the repository is public.\n",
    "- [ ] Reviewed the PR description guidelines and adhered to them.\n",
    "- [ ] Verify that the link is accessible in a private browser window.\n",
    "\n",
    "If you encounter any difficulties or have questions, please don't hesitate to reach out to our team via our Slack at `#cohort-3-help`. Our Technical Facilitators and Learning Support staff are here to help you navigate any challenges."
   ]
  }
 ],
 "metadata": {
  "kernelspec": {
   "display_name": "env",
   "language": "python",
   "name": "python3"
  },
  "language_info": {
   "codemirror_mode": {
    "name": "ipython",
    "version": 3
   },
   "file_extension": ".py",
   "mimetype": "text/x-python",
   "name": "python",
   "nbconvert_exporter": "python",
   "pygments_lexer": "ipython3",
   "version": "3.11.0"
  }
 },
 "nbformat": 4,
 "nbformat_minor": 2
}
